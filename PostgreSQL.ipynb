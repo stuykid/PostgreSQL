{
 "cells": [
  {
   "cell_type": "code",
   "execution_count": 1,
   "id": "b3453a33",
   "metadata": {
    "scrolled": true
   },
   "outputs": [
    {
     "name": "stdout",
     "output_type": "stream",
     "text": [
      "Requirement already satisfied: psycopg2-binary in ./opt/anaconda3/lib/python3.8/site-packages (2.9.3)\n",
      "Note: you may need to restart the kernel to use updated packages.\n"
     ]
    }
   ],
   "source": [
    "\n",
    "pip install psycopg2-binary"
   ]
  },
  {
   "cell_type": "code",
   "execution_count": 2,
   "id": "183eafd4",
   "metadata": {},
   "outputs": [],
   "source": [
    "# After installing with pip install psycopg2\n",
    "import psycopg2 as pg2\n"
   ]
  },
  {
   "cell_type": "code",
   "execution_count": 3,
   "id": "c6e988d7",
   "metadata": {},
   "outputs": [],
   "source": [
    "# Create a connection with PostgreSQL\n",
    "conn = pg2.connect(database='Github', user='postgres',password='Spectrum1!')"
   ]
  },
  {
   "cell_type": "code",
   "execution_count": 4,
   "id": "28a7e6f3",
   "metadata": {},
   "outputs": [],
   "source": [
    "# Establish connection and start cursor to be ready to query\n",
    "cur = conn.cursor()"
   ]
  },
  {
   "cell_type": "code",
   "execution_count": 5,
   "id": "6196343f",
   "metadata": {},
   "outputs": [],
   "source": [
    "# Creating a table named Profile \n",
    "\n",
    "query1 = '''\n",
    "        CREATE TABLE profile (\n",
    "            name VARCHAR(50) UNIQUE NOT NULL,\n",
    "            email VARCHAR(50) UNIQUE, \n",
    "            city VARCHAR(50) NOT NULL,\n",
    "            state VARCHAR(50) NOT NULL,\n",
    "            title VARCHAR(50),\n",
    "            company VARCHAR(50)\n",
    "        );\n",
    "        '''"
   ]
  },
  {
   "cell_type": "code",
   "execution_count": 6,
   "id": "99cde108",
   "metadata": {},
   "outputs": [],
   "source": [
    "# Pass in a PostgreSQL query as a variable\n",
    "cur.execute(query1)"
   ]
  },
  {
   "cell_type": "code",
   "execution_count": 7,
   "id": "5cf8f1b6",
   "metadata": {},
   "outputs": [],
   "source": [
    "# Inserting data into each column in table \n",
    "\n",
    "query2 = '''\n",
    "        INSERT INTO profile(name, email, city, state, title, company)\n",
    "        VALUES\n",
    "        ('Sheriff Legrand', 's.legrand23@gmail.com', 'Brooklyn', 'NY', 'Software Engineer', 'Your Company');\n",
    "        '''"
   ]
  },
  {
   "cell_type": "code",
   "execution_count": 8,
   "id": "d512144a",
   "metadata": {},
   "outputs": [],
   "source": [
    "# Pass in a PostgreSQL query as a variable\n",
    "cur.execute(query2)"
   ]
  },
  {
   "cell_type": "code",
   "execution_count": 9,
   "id": "7146a942",
   "metadata": {},
   "outputs": [],
   "source": [
    "# Pass in a PostgreSQL query as a string\n",
    "cur.execute('SELECT * FROM profile')"
   ]
  },
  {
   "cell_type": "code",
   "execution_count": 10,
   "id": "820a4136",
   "metadata": {},
   "outputs": [
    {
     "name": "stdout",
     "output_type": "stream",
     "text": [
      "('Sheriff Legrand', 's.legrand23@gmail.com', 'Brooklyn', 'NY', 'Software Engineer', 'Your Company')\n"
     ]
    }
   ],
   "source": [
    "# Print row from profile table\n",
    "for row in cur:\n",
    "   print(row)"
   ]
  },
  {
   "cell_type": "code",
   "execution_count": 11,
   "id": "6a0f6bad",
   "metadata": {},
   "outputs": [],
   "source": [
    "# Return a tuple of the first row as Python objects\n",
    "cur.fetchone()"
   ]
  },
  {
   "cell_type": "code",
   "execution_count": 12,
   "id": "fe7cdc31",
   "metadata": {},
   "outputs": [],
   "source": [
    "# Updating column in table \n",
    "query3 = '''\n",
    "        UPDATE profile\n",
    "        SET title = 'Best Software Engineer';\n",
    "        '''"
   ]
  },
  {
   "cell_type": "code",
   "execution_count": 13,
   "id": "712cecd2",
   "metadata": {},
   "outputs": [],
   "source": [
    "# Pass in a PostgreSQL query as a variable\n",
    "cur.execute(query3)"
   ]
  },
  {
   "cell_type": "code",
   "execution_count": 14,
   "id": "4a524422",
   "metadata": {},
   "outputs": [],
   "source": [
    "# Pass in a PostgreSQL query as a string\n",
    "cur.execute('SELECT * FROM profile')"
   ]
  },
  {
   "cell_type": "code",
   "execution_count": 15,
   "id": "9927422d",
   "metadata": {},
   "outputs": [
    {
     "data": {
      "text/plain": [
       "[('Sheriff Legrand',\n",
       "  's.legrand23@gmail.com',\n",
       "  'Brooklyn',\n",
       "  'NY',\n",
       "  'Best Software Engineer',\n",
       "  'Your Company')]"
      ]
     },
     "execution_count": 15,
     "metadata": {},
     "output_type": "execute_result"
    }
   ],
   "source": [
    "# Return N number of rows\n",
    "cur.fetchmany(10)"
   ]
  },
  {
   "cell_type": "code",
   "execution_count": 16,
   "id": "5999f49d",
   "metadata": {},
   "outputs": [],
   "source": [
    "# Pass in a PostgreSQL query as a string\n",
    "cur.execute('SELECT * FROM profile')"
   ]
  },
  {
   "cell_type": "code",
   "execution_count": 17,
   "id": "29e45a22",
   "metadata": {},
   "outputs": [
    {
     "name": "stdout",
     "output_type": "stream",
     "text": [
      "('Sheriff Legrand', 's.legrand23@gmail.com', 'Brooklyn', 'NY', 'Best Software Engineer', 'Your Company')\n"
     ]
    }
   ],
   "source": [
    "# Print row from profile table\n",
    "for row in cur:\n",
    "   print(row)"
   ]
  },
  {
   "cell_type": "code",
   "execution_count": 18,
   "id": "81cbb672",
   "metadata": {},
   "outputs": [],
   "source": [
    "# Pass in a PostgreSQL query as a string\n",
    "cur.execute('SELECT * FROM profile')"
   ]
  },
  {
   "cell_type": "code",
   "execution_count": 19,
   "id": "056dd92f",
   "metadata": {},
   "outputs": [],
   "source": [
    "# Return All rows at once\n",
    "# To save and index results, assign it to a variable\n",
    "data = cur.fetchall()"
   ]
  },
  {
   "cell_type": "code",
   "execution_count": 20,
   "id": "546f2415",
   "metadata": {},
   "outputs": [
    {
     "data": {
      "text/plain": [
       "[('Sheriff Legrand',\n",
       "  's.legrand23@gmail.com',\n",
       "  'Brooklyn',\n",
       "  'NY',\n",
       "  'Best Software Engineer',\n",
       "  'Your Company')]"
      ]
     },
     "execution_count": 20,
     "metadata": {},
     "output_type": "execute_result"
    }
   ],
   "source": [
    "data"
   ]
  },
  {
   "cell_type": "code",
   "execution_count": 21,
   "id": "b8603add",
   "metadata": {},
   "outputs": [],
   "source": [
    "# commit the changes to the database\n",
    "conn.commit()"
   ]
  },
  {
   "cell_type": "code",
   "execution_count": 22,
   "id": "824f4187",
   "metadata": {},
   "outputs": [],
   "source": [
    "# Close the connection!\n",
    "# killing the kernel or shutting down juptyer will also close it\n",
    "conn.close()"
   ]
  }
 ],
 "metadata": {
  "kernelspec": {
   "display_name": "Python 3",
   "language": "python",
   "name": "python3"
  },
  "language_info": {
   "codemirror_mode": {
    "name": "ipython",
    "version": 3
   },
   "file_extension": ".py",
   "mimetype": "text/x-python",
   "name": "python",
   "nbconvert_exporter": "python",
   "pygments_lexer": "ipython3",
   "version": "3.8.8"
  }
 },
 "nbformat": 4,
 "nbformat_minor": 5
}
